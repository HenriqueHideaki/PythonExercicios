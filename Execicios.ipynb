{
  "nbformat": 4,
  "nbformat_minor": 0,
  "metadata": {
    "colab": {
      "provenance": [],
      "collapsed_sections": [],
      "authorship_tag": "ABX9TyON5gtQkiI/8YtCDR3KtW4y",
      "include_colab_link": true
    },
    "kernelspec": {
      "name": "python3",
      "display_name": "Python 3"
    },
    "language_info": {
      "name": "python"
    }
  },
  "cells": [
    {
      "cell_type": "markdown",
      "metadata": {
        "id": "view-in-github",
        "colab_type": "text"
      },
      "source": [
        "<a href=\"https://colab.research.google.com/github/HenriqueHideaki/PythonExercicios/blob/master/Execicios.ipynb\" target=\"_parent\"><img src=\"https://colab.research.google.com/assets/colab-badge.svg\" alt=\"Open In Colab\"/></a>"
      ]
    },
    {
      "cell_type": "markdown",
      "source": [
        "Exercício Python #004 - Dissecando uma Variável"
      ],
      "metadata": {
        "id": "Khpw383qGw8A"
      }
    },
    {
      "cell_type": "code",
      "source": [
        "algo = input(\"Digite algo: \")\n",
        "print(f'O tipo primitivo desse valor é {type(algo)}')\n",
        "print(f'Só tem espaços? {algo.isspace()}')\n",
        "print(f'É um número? {algo.isnumeric()}')\n",
        "print(f'É alfabético? {algo.isalpha()}')\n",
        "print(f'É alfanumerico? {algo.isalnum()}')\n",
        "print(f'Esta em maiusculas? {algo.isupper()}')\n",
        "print(f'Esta em minusculas? {algo.islower()}')"
      ],
      "metadata": {
        "colab": {
          "base_uri": "https://localhost:8080/"
        },
        "id": "c2iEbP2cGyED",
        "outputId": "53e43456-2f1e-4cfb-eac2-ac45da0a24ce"
      },
      "execution_count": null,
      "outputs": [
        {
          "output_type": "stream",
          "name": "stdout",
          "text": [
            "Digite algo: henrique koga\n",
            "O tipo primitivo desse valor é <class 'str'>\n",
            "Só tem espaços? False\n",
            "É um número? False\n",
            "É alfabético? False\n",
            "É alfanumerico? False\n",
            "Esta em maiusculas? False\n",
            "Esta em minusculas? True\n"
          ]
        }
      ]
    },
    {
      "cell_type": "markdown",
      "source": [
        "Exercício Python #009 - Tabuada"
      ],
      "metadata": {
        "id": "5QolK4URIlZu"
      }
    },
    {
      "cell_type": "code",
      "source": [
        "num = int(input(\"Digite um número para ver sua tabuada: \"))\n",
        "\n",
        "print(f'{num} x 1 = {num * 1}')\n",
        "print(f'{num} x 2 = {num * 2}')\n",
        "print(f'{num} x 3 = {num * 3}')\n",
        "print(f'{num} x 4 = {num * 4}')\n",
        "print(f'{num} x 5 = {num * 5}')\n",
        "print(f'{num} x 6 = {num * 6}')\n",
        "print(f'{num} x 7 = {num * 7}')\n",
        "print(f'{num} x 8 = {num * 8}')\n",
        "print(f'{num} x 9 = {num * 9}')\n",
        "print(f'{num} x 10 = {num * 10}')"
      ],
      "metadata": {
        "colab": {
          "base_uri": "https://localhost:8080/"
        },
        "id": "Uew0ljrtImXN",
        "outputId": "7d76c1b5-736d-44b3-8fa3-552b75560ac7"
      },
      "execution_count": null,
      "outputs": [
        {
          "output_type": "stream",
          "name": "stdout",
          "text": [
            "Digite um número para ver sua tabuada: 7\n",
            "7 x 1 = 7\n",
            "7 x 2 = 14\n",
            "7 x 3 = 21\n",
            "7 x 4 = 28\n",
            "7 x 5 = 35\n",
            "7 x 6 = 42\n",
            "7 x 7 = 49\n",
            "7 x 8 = 56\n",
            "7 x 9 = 63\n",
            "7 x 10 = 70\n"
          ]
        }
      ]
    },
    {
      "cell_type": "markdown",
      "source": [
        "Exercício Python #023 - Separando dígitos de um número\n"
      ],
      "metadata": {
        "id": "Y9ft8DOAweWM"
      }
    },
    {
      "cell_type": "code",
      "source": [
        "num = int(input(\"Digite um número: \"))\n",
        "u = num // 1 % 10\n",
        "d = num // 10 % 10\n",
        "c = num // 100 % 10\n",
        "m = num // 1000 % 10   \n",
        "print(f'Analisando o número {num}')\n",
        "print(f'Unidade {u}')\n",
        "print(f'Dezena {d}0')\n",
        "print(f'Centena {c}00')\n",
        "print(f'Milhar {m}000')\n"
      ],
      "metadata": {
        "colab": {
          "base_uri": "https://localhost:8080/"
        },
        "id": "NOXWz9lqO7Ad",
        "outputId": "72365288-2154-48cd-d274-91d7904c4d8d"
      },
      "execution_count": null,
      "outputs": [
        {
          "output_type": "stream",
          "name": "stdout",
          "text": [
            "Digite um número: 7846\n",
            "Analisando o número 7846\n",
            "Unidade 6\n",
            "Dezena 40\n",
            "Centena 800\n",
            "Milhar 7000\n"
          ]
        }
      ]
    },
    {
      "cell_type": "markdown",
      "source": [
        "Exercício Python #024 - Verificando as primeiras letras de um texto"
      ],
      "metadata": {
        "id": "Z4rNv3hHSxib"
      }
    },
    {
      "cell_type": "code",
      "source": [
        "cid = str(input('Em que cidade voce nasceu: ')).upper().strip()\n",
        "print(cid[:5] == 'SANTO')"
      ],
      "metadata": {
        "colab": {
          "base_uri": "https://localhost:8080/"
        },
        "id": "Tndn6WBeS_u7",
        "outputId": "af6b1ebe-565c-47d7-da0e-2308ce7ffdaf"
      },
      "execution_count": null,
      "outputs": [
        {
          "output_type": "stream",
          "name": "stdout",
          "text": [
            "Em que cidade voce nasceu:    santo antonio\n",
            "True\n"
          ]
        }
      ]
    },
    {
      "cell_type": "markdown",
      "source": [
        "Exercício Python #020"
      ],
      "metadata": {
        "id": "GY02jnt_TAy7"
      }
    },
    {
      "cell_type": "code",
      "source": [
        "import random\n",
        "\n",
        "aluno1 = str(input(\"Digite o nome do primeiro aluno: \"))\n",
        "aluno2 = str(input(\"Digite o nome do segundo aluno: \"))\n",
        "aluno3 = str(input(\"Digite o nome do terceiro aluno: \"))\n",
        "aluno4 = str(input(\"Digite o nome do quarto aluno: \"))\n",
        "\n",
        "lista = [aluno1, aluno2, aluno3, aluno4]\n",
        "random.shuffle(lista)\n",
        "\n",
        "print('A ordem da apresentação será: ')\n",
        "print(lista)\n"
      ],
      "metadata": {
        "colab": {
          "base_uri": "https://localhost:8080/",
          "height": 399
        },
        "id": "QEHey6jNwgG4",
        "outputId": "528e81e0-50e2-4bef-c89d-a1175de33210"
      },
      "execution_count": null,
      "outputs": [
        {
          "output_type": "error",
          "ename": "KeyboardInterrupt",
          "evalue": "ignored",
          "traceback": [
            "\u001b[0;31m---------------------------------------------------------------------------\u001b[0m",
            "\u001b[0;31mKeyboardInterrupt\u001b[0m                         Traceback (most recent call last)",
            "\u001b[0;32m<ipython-input-4-b609b1ca49ac>\u001b[0m in \u001b[0;36m<module>\u001b[0;34m\u001b[0m\n\u001b[1;32m      1\u001b[0m \u001b[0;32mimport\u001b[0m \u001b[0mrandom\u001b[0m\u001b[0;34m\u001b[0m\u001b[0;34m\u001b[0m\u001b[0m\n\u001b[1;32m      2\u001b[0m \u001b[0;34m\u001b[0m\u001b[0m\n\u001b[0;32m----> 3\u001b[0;31m \u001b[0maluno1\u001b[0m \u001b[0;34m=\u001b[0m \u001b[0mstr\u001b[0m\u001b[0;34m(\u001b[0m\u001b[0minput\u001b[0m\u001b[0;34m(\u001b[0m\u001b[0;34m\"Digite o nome do primeiro aluno: \"\u001b[0m\u001b[0;34m)\u001b[0m\u001b[0;34m)\u001b[0m\u001b[0;34m\u001b[0m\u001b[0;34m\u001b[0m\u001b[0m\n\u001b[0m\u001b[1;32m      4\u001b[0m \u001b[0maluno2\u001b[0m \u001b[0;34m=\u001b[0m \u001b[0mstr\u001b[0m\u001b[0;34m(\u001b[0m\u001b[0minput\u001b[0m\u001b[0;34m(\u001b[0m\u001b[0;34m\"Digite o nome do segundo aluno: \"\u001b[0m\u001b[0;34m)\u001b[0m\u001b[0;34m)\u001b[0m\u001b[0;34m\u001b[0m\u001b[0;34m\u001b[0m\u001b[0m\n\u001b[1;32m      5\u001b[0m \u001b[0maluno3\u001b[0m \u001b[0;34m=\u001b[0m \u001b[0mstr\u001b[0m\u001b[0;34m(\u001b[0m\u001b[0minput\u001b[0m\u001b[0;34m(\u001b[0m\u001b[0;34m\"Digite o nome do terceiro aluno: \"\u001b[0m\u001b[0;34m)\u001b[0m\u001b[0;34m)\u001b[0m\u001b[0;34m\u001b[0m\u001b[0;34m\u001b[0m\u001b[0m\n",
            "\u001b[0;32m/usr/local/lib/python3.7/dist-packages/ipykernel/kernelbase.py\u001b[0m in \u001b[0;36mraw_input\u001b[0;34m(self, prompt)\u001b[0m\n\u001b[1;32m    861\u001b[0m             \u001b[0mself\u001b[0m\u001b[0;34m.\u001b[0m\u001b[0m_parent_ident\u001b[0m\u001b[0;34m,\u001b[0m\u001b[0;34m\u001b[0m\u001b[0;34m\u001b[0m\u001b[0m\n\u001b[1;32m    862\u001b[0m             \u001b[0mself\u001b[0m\u001b[0;34m.\u001b[0m\u001b[0m_parent_header\u001b[0m\u001b[0;34m,\u001b[0m\u001b[0;34m\u001b[0m\u001b[0;34m\u001b[0m\u001b[0m\n\u001b[0;32m--> 863\u001b[0;31m             \u001b[0mpassword\u001b[0m\u001b[0;34m=\u001b[0m\u001b[0;32mFalse\u001b[0m\u001b[0;34m,\u001b[0m\u001b[0;34m\u001b[0m\u001b[0;34m\u001b[0m\u001b[0m\n\u001b[0m\u001b[1;32m    864\u001b[0m         )\n\u001b[1;32m    865\u001b[0m \u001b[0;34m\u001b[0m\u001b[0m\n",
            "\u001b[0;32m/usr/local/lib/python3.7/dist-packages/ipykernel/kernelbase.py\u001b[0m in \u001b[0;36m_input_request\u001b[0;34m(self, prompt, ident, parent, password)\u001b[0m\n\u001b[1;32m    902\u001b[0m             \u001b[0;32mexcept\u001b[0m \u001b[0mKeyboardInterrupt\u001b[0m\u001b[0;34m:\u001b[0m\u001b[0;34m\u001b[0m\u001b[0;34m\u001b[0m\u001b[0m\n\u001b[1;32m    903\u001b[0m                 \u001b[0;31m# re-raise KeyboardInterrupt, to truncate traceback\u001b[0m\u001b[0;34m\u001b[0m\u001b[0;34m\u001b[0m\u001b[0;34m\u001b[0m\u001b[0m\n\u001b[0;32m--> 904\u001b[0;31m                 \u001b[0;32mraise\u001b[0m \u001b[0mKeyboardInterrupt\u001b[0m\u001b[0;34m(\u001b[0m\u001b[0;34m\"Interrupted by user\"\u001b[0m\u001b[0;34m)\u001b[0m \u001b[0;32mfrom\u001b[0m \u001b[0;32mNone\u001b[0m\u001b[0;34m\u001b[0m\u001b[0;34m\u001b[0m\u001b[0m\n\u001b[0m\u001b[1;32m    905\u001b[0m             \u001b[0;32mexcept\u001b[0m \u001b[0mException\u001b[0m \u001b[0;32mas\u001b[0m \u001b[0me\u001b[0m\u001b[0;34m:\u001b[0m\u001b[0;34m\u001b[0m\u001b[0;34m\u001b[0m\u001b[0m\n\u001b[1;32m    906\u001b[0m                 \u001b[0mself\u001b[0m\u001b[0;34m.\u001b[0m\u001b[0mlog\u001b[0m\u001b[0;34m.\u001b[0m\u001b[0mwarning\u001b[0m\u001b[0;34m(\u001b[0m\u001b[0;34m\"Invalid Message:\"\u001b[0m\u001b[0;34m,\u001b[0m \u001b[0mexc_info\u001b[0m\u001b[0;34m=\u001b[0m\u001b[0;32mTrue\u001b[0m\u001b[0;34m)\u001b[0m\u001b[0;34m\u001b[0m\u001b[0;34m\u001b[0m\u001b[0m\n",
            "\u001b[0;31mKeyboardInterrupt\u001b[0m: Interrupted by user"
          ]
        }
      ]
    },
    {
      "cell_type": "markdown",
      "source": [
        "Exercício Python #025 - Procurando uma string dentro de outra"
      ],
      "metadata": {
        "id": "qhqW3DpRTyNy"
      }
    },
    {
      "cell_type": "code",
      "source": [
        "nome = str(input('Qual é o seu nome completo? ')).upper().strip()\n",
        "print('Seu nome tem Silva ? {}'.format('SILVA' in nome))"
      ],
      "metadata": {
        "colab": {
          "base_uri": "https://localhost:8080/"
        },
        "id": "4aeyq8HBTzGS",
        "outputId": "584e1983-fddc-4dc7-ac5a-fd3027a87c72"
      },
      "execution_count": null,
      "outputs": [
        {
          "output_type": "stream",
          "name": "stdout",
          "text": [
            "Qual é o seu nome completo?    silva silva \n",
            "Seu nome tem Silva ? True\n"
          ]
        }
      ]
    },
    {
      "cell_type": "markdown",
      "source": [
        "Exercício Python #026 - Primeira e última ocorrência de uma string"
      ],
      "metadata": {
        "id": "RJNQt7oFU2hO"
      }
    },
    {
      "cell_type": "code",
      "source": [
        "frase = str(input(\"Digite uma frase: \")).strip().upper()\n",
        "print('Quantas vezes aparece a letra A: {}'.format(frase.count('A')))\n",
        "print('A primeira letra A apareceu na posição {}'.format(frase.find('A')+1))\n",
        "print('A última letra A apareceu na posição {}'.format(frase.rfind('A')+1))"
      ],
      "metadata": {
        "colab": {
          "base_uri": "https://localhost:8080/"
        },
        "id": "3LzCXQs1U3Ru",
        "outputId": "48bc2a86-de79-48e4-ec9e-b802f5d5e482"
      },
      "execution_count": null,
      "outputs": [
        {
          "output_type": "stream",
          "name": "stdout",
          "text": [
            "Digite uma frase: henrique hideaki koga\n",
            "Quantas vezes aparece a letra A: 2\n",
            "A primeira letra A apareceu na posição 14\n",
            "A última letra A apareceu na posição 21\n"
          ]
        }
      ]
    },
    {
      "cell_type": "markdown",
      "source": [
        "Exercício Python #027 - Primeiro e último nome de uma pessoa"
      ],
      "metadata": {
        "id": "hY8-QUoPWrVv"
      }
    },
    {
      "cell_type": "code",
      "source": [
        "n = str(input('Qual é o seu nome completo? ')).upper().strip()\n",
        "nome = n.split()\n",
        "print(f'Seu primeiro nome é {nome[0]}')\n",
        "print(f'Seu último nome é {nome[len(nome) - 1]}')"
      ],
      "metadata": {
        "colab": {
          "base_uri": "https://localhost:8080/"
        },
        "id": "5x2jY3OkWsB_",
        "outputId": "4ddf9965-bcd3-49b1-9cec-aa106b0fd29f"
      },
      "execution_count": null,
      "outputs": [
        {
          "output_type": "stream",
          "name": "stdout",
          "text": [
            "Qual é o seu nome completo? Matheus Henrique Ferreira dos Santo Junuir\n",
            "Seu primeiro nome é MATHEUS\n",
            "Seu último nome é JUNUIR\n"
          ]
        }
      ]
    },
    {
      "cell_type": "markdown",
      "source": [
        "Exercício Python #028 - Jogo da Adivinhação v.1.0"
      ],
      "metadata": {
        "id": "B7Kl-BlbXoRT"
      }
    },
    {
      "cell_type": "code",
      "source": [
        "from random import randint\n",
        "\n",
        "computador = randint(0,5)\n",
        "print('-=-' * 20)\n",
        "print('Vou pensar em um número de 0 até 5, tente adivinhar')\n",
        "print('-=-' * 20)\n",
        "jogador = int(input('Em que número eu pensei? ')) \n",
        "if jogador == computador:\n",
        "  print('Parabens voce acertou!!')\n",
        "else:\n",
        "  print('Errou!! O número que pensei foi {}'.format(computador))\n"
      ],
      "metadata": {
        "colab": {
          "base_uri": "https://localhost:8080/"
        },
        "id": "w1vkKfXOXpDo",
        "outputId": "e70f3cca-6d36-4915-9a9c-058e8c4d8113"
      },
      "execution_count": null,
      "outputs": [
        {
          "output_type": "stream",
          "name": "stdout",
          "text": [
            "-=--=--=--=--=--=--=--=--=--=--=--=--=--=--=--=--=--=--=--=-\n",
            "Vou pensar em um número de 0 até 5, tente adivinhar\n",
            "-=--=--=--=--=--=--=--=--=--=--=--=--=--=--=--=--=--=--=--=-\n",
            "Em que número eu pensei? 1\n",
            "Parabens voce acertou!!\n"
          ]
        }
      ]
    },
    {
      "cell_type": "markdown",
      "source": [
        "Exercício Python #037 - Conversor de Bases Numéricas"
      ],
      "metadata": {
        "id": "QINgK5LkecXO"
      }
    },
    {
      "cell_type": "code",
      "source": [
        "num = int(input(\"Digite um número inteiro:  \"))\n",
        "print(\"Escolha uma das Bases para conversão: \\n [1] para Binário \\n [2] para Octal \\n [3] para Hexadecimal\")\n",
        "\n",
        "opcao = int(input(\"Digite uma opcao: \"))\n",
        "if opcao == 1:\n",
        "  print('O número {} em binário é {}'.format(num,bin(num)))\n",
        "elif opcao == 2:\n",
        "  print(f'O número {num} em octal é {oct(num)}')  \n",
        "elif opcao == 3:\n",
        "  print(f'O número {num} em Hexadecimal é {hex(num)}')    "
      ],
      "metadata": {
        "colab": {
          "base_uri": "https://localhost:8080/"
        },
        "id": "XwIKxPIyedDF",
        "outputId": "4a770f8c-25b1-480b-e892-e32057b66443"
      },
      "execution_count": null,
      "outputs": [
        {
          "output_type": "stream",
          "name": "stdout",
          "text": [
            "Digite um número inteiro:  2\n",
            "Escolha uma das Bases para conversão: \n",
            " [1] para Binário \n",
            " [2] para Octal \n",
            " [3] para Hexadecimal\n",
            "Digite uma opcao: 1\n",
            "O número 2 em binário é 0b10\n"
          ]
        }
      ]
    },
    {
      "cell_type": "markdown",
      "source": [
        "Python Exercício #041 - Classificando Atletas"
      ],
      "metadata": {
        "id": "Yetwi1osilG8"
      }
    },
    {
      "cell_type": "code",
      "source": [
        "from datetime import date\n",
        "\n",
        "atual = date.today().year\n",
        "nascimento = int(input('Ano de nascimento: '))\n",
        "idade = atual - nascimento \n",
        "print('O atleta tem {} anos'.format(idade))\n",
        "if idade <= 9:\n",
        "  print(\"Classificacao: MIRIM\")\n",
        "elif idade <= 14:\n",
        "  print(\"Classificacao: INFANTIL\")\n",
        "elif idade <= 19:\n",
        "  print(\"Classificacao: JUNIOR\")\n",
        "elif idade <= 25:\n",
        "  print(\"Classificacao: SENIOR\")\n",
        "else:\n",
        "  print(\"Master\")"
      ],
      "metadata": {
        "colab": {
          "base_uri": "https://localhost:8080/"
        },
        "id": "PyO7hE-7ilvS",
        "outputId": "6253691b-bdea-48c5-965a-d37abebf73d1"
      },
      "execution_count": null,
      "outputs": [
        {
          "output_type": "stream",
          "name": "stdout",
          "text": [
            "Ano de nascimento: 2010\n",
            "O atleta tem 12 anos\n",
            "Classificacao: INFANTIL\n"
          ]
        }
      ]
    },
    {
      "cell_type": "markdown",
      "source": [
        "Exercício Python #046 - Contagem regressiva"
      ],
      "metadata": {
        "id": "Fl8PPkgKkNvn"
      }
    },
    {
      "cell_type": "code",
      "source": [
        "from time import sleep\n",
        "\n",
        "for cont in range(10, 0, -1):\n",
        "  print(cont)\n",
        "  sleep(1)\n",
        "print(\"Acabou\")"
      ],
      "metadata": {
        "colab": {
          "base_uri": "https://localhost:8080/"
        },
        "id": "ZumV-5wlkOUf",
        "outputId": "fefddc9a-016b-4cd8-c80d-2b30b30dbef4"
      },
      "execution_count": null,
      "outputs": [
        {
          "output_type": "stream",
          "name": "stdout",
          "text": [
            "10\n",
            "9\n",
            "8\n",
            "7\n",
            "6\n",
            "5\n",
            "4\n",
            "3\n",
            "2\n",
            "1\n",
            "Acabou\n"
          ]
        }
      ]
    },
    {
      "cell_type": "markdown",
      "source": [
        "Exercício Python #047 - Contagem de pares"
      ],
      "metadata": {
        "id": "Y5UZbUOMkyyB"
      }
    },
    {
      "cell_type": "code",
      "source": [
        "par = []\n",
        "for i in range(1,51):\n",
        "   if i%2==0:\n",
        "     par.append(i)\n",
        "print(par)"
      ],
      "metadata": {
        "colab": {
          "base_uri": "https://localhost:8080/"
        },
        "id": "6-Kj7SpTk3eQ",
        "outputId": "811a61d9-d468-4e63-8b7a-aebdbaed1b7e"
      },
      "execution_count": null,
      "outputs": [
        {
          "output_type": "stream",
          "name": "stdout",
          "text": [
            "[2, 4, 6, 8, 10, 12, 14, 16, 18, 20, 22, 24, 26, 28, 30, 32, 34, 36, 38, 40, 42, 44, 46, 48, 50]\n"
          ]
        }
      ]
    },
    {
      "cell_type": "markdown",
      "source": [
        "Exercício Python #048 - Soma ímpares múltiplos de três"
      ],
      "metadata": {
        "id": "mD5ZCI6FnfG0"
      }
    },
    {
      "cell_type": "code",
      "source": [
        "impar = []\n",
        "for i in range(1,501):\n",
        "  if i % 2 == 1 and i % 3 == 0:\n",
        "    impar.append(i)\n",
        "print(sum(impar))"
      ],
      "metadata": {
        "colab": {
          "base_uri": "https://localhost:8080/"
        },
        "id": "kC1ZfMYZnf4G",
        "outputId": "1087ea81-10d5-4733-b488-2159ef903b07"
      },
      "execution_count": null,
      "outputs": [
        {
          "output_type": "stream",
          "name": "stdout",
          "text": [
            "20667\n"
          ]
        }
      ]
    },
    {
      "cell_type": "markdown",
      "source": [
        "Exercício Python #050 - Soma dos pares"
      ],
      "metadata": {
        "id": "XFepxfsOo4iu"
      }
    },
    {
      "cell_type": "code",
      "source": [
        "soma = 0\n",
        "cont = 0\n",
        "for i in range(1,7):\n",
        " c\n",
        "  if num % 2 == 0: \n",
        "    soma = soma + num\n",
        "    cont = cont + 1\n",
        "\n",
        "print(f'Voce informout {cont} numeros e a soma dos pares foi {soma}')\n"
      ],
      "metadata": {
        "colab": {
          "base_uri": "https://localhost:8080/"
        },
        "id": "V7S5m5O3o59B",
        "outputId": "6bb18a68-d457-47e8-8060-7b6cb7c84bfa"
      },
      "execution_count": null,
      "outputs": [
        {
          "output_type": "stream",
          "name": "stdout",
          "text": [
            "Digite o valor 1: 1\n",
            "Digite o valor 2: 2\n",
            "Digite o valor 3: 3\n",
            "Digite o valor 4: 4\n",
            "Digite o valor 5: 5\n",
            "Digite o valor 6: 6\n",
            "Voce informout 3 numeros e a soma dos pares foi 12\n"
          ]
        }
      ]
    },
    {
      "cell_type": "markdown",
      "source": [
        "Exercício Python #051 - Progressão Aritmética"
      ],
      "metadata": {
        "id": "3Bi_wrcVrEZd"
      }
    },
    {
      "cell_type": "code",
      "source": [
        "print('=' * 20)\n",
        "print('10 termos de uma PA')\n",
        "print('=' * 20)\n",
        "\n",
        "pa = []\n",
        "pt = int(input('Digite o primeiro termo: '))\n",
        "razao = int(input('Digite a razao: '))\n",
        "for i in range(10):\n",
        "  pa.append(pt)\n",
        "  pt+=razao\n",
        "\n",
        "print(pa)\n",
        "\n"
      ],
      "metadata": {
        "colab": {
          "base_uri": "https://localhost:8080/"
        },
        "id": "yXbON5ycrFOU",
        "outputId": "6427b0c9-1da2-4aa1-930f-0956a2c00eb4"
      },
      "execution_count": null,
      "outputs": [
        {
          "output_type": "stream",
          "name": "stdout",
          "text": [
            "====================\n",
            "10 termos de uma PA\n",
            "====================\n",
            "Digite o primeiro termo: 3\n",
            "Digite a razao: 2\n",
            "[3, 5, 7, 9, 11, 13, 15, 17, 19, 21]\n"
          ]
        }
      ]
    },
    {
      "cell_type": "code",
      "source": [
        "pip install unidecode"
      ],
      "metadata": {
        "colab": {
          "base_uri": "https://localhost:8080/"
        },
        "id": "qMpCE7SZzT09",
        "outputId": "24ac289a-4250-4b38-b3f2-c55293e3c04a"
      },
      "execution_count": null,
      "outputs": [
        {
          "output_type": "stream",
          "name": "stdout",
          "text": [
            "Looking in indexes: https://pypi.org/simple, https://us-python.pkg.dev/colab-wheels/public/simple/\n",
            "Requirement already satisfied: unidecode in /usr/local/lib/python3.7/dist-packages (1.3.6)\n"
          ]
        }
      ]
    },
    {
      "cell_type": "markdown",
      "source": [
        "Exercício Python #053 - Detector de Palíndromo"
      ],
      "metadata": {
        "id": "FmULFZSVtc8K"
      }
    },
    {
      "cell_type": "code",
      "source": [
        "from unidecode import unidecode\n",
        "frase = str(input('Digite uma frase: ')).upper().strip().replace(\" \",\"\").replace(\",\",\"\").replace(\"!\",\"\").replace(\".\",\"\")\n",
        "frase_sem_acentos = unidecode(frase)\n",
        "frase_invertida = frase_sem_acentos[::-1]\n",
        "if frase_sem_acentos == frase_invertida:\n",
        "  print(\"É um palindromo\")\n",
        "else:\n",
        "  print(\"Não é um palindromo\") \n",
        "\n",
        "\n",
        "\n",
        "\n",
        "# def inverse(frase):\n",
        "#   return frase[::-1]"
      ],
      "metadata": {
        "colab": {
          "base_uri": "https://localhost:8080/"
        },
        "id": "bg2Cl1vktd0R",
        "outputId": "bc657448-3784-4f3d-d55d-bcf0f934b8aa"
      },
      "execution_count": null,
      "outputs": [
        {
          "output_type": "stream",
          "name": "stdout",
          "text": [
            "Digite uma frase: Ótimo, só eu, que os omito.\n",
            "É um palindromo\n"
          ]
        }
      ]
    },
    {
      "cell_type": "markdown",
      "source": [
        "Exercício Python #054 - Grupo da Maioridade"
      ],
      "metadata": {
        "id": "6O0y9SEPJ0q_"
      }
    },
    {
      "cell_type": "code",
      "source": [
        "from datetime import date\n",
        "from random import randint\n",
        "\n",
        "atual = date.today().year\n",
        "pessoas = []\n",
        "maior = 0\n",
        "menor = 0\n",
        "for i in range(1,8):\n",
        "  pessoas = int(input(\"Em que ano a {} pessoa nasceu: \".format(i)))\n",
        "  if(atual - pessoas > 18):\n",
        "     maior += 1\n",
        "  else:\n",
        "     menor += 1\n",
        "\n",
        "print(f'{maior} são maiores de idade e {menor} são menores de idade')\n",
        "  "
      ],
      "metadata": {
        "colab": {
          "base_uri": "https://localhost:8080/",
          "height": 380
        },
        "id": "S_SZ5NAqJ1hs",
        "outputId": "d1bba1cf-2b72-4904-812c-f831ae5167f0"
      },
      "execution_count": null,
      "outputs": [
        {
          "output_type": "error",
          "ename": "KeyboardInterrupt",
          "evalue": "ignored",
          "traceback": [
            "\u001b[0;31m---------------------------------------------------------------------------\u001b[0m",
            "\u001b[0;31mKeyboardInterrupt\u001b[0m                         Traceback (most recent call last)",
            "\u001b[0;32m<ipython-input-17-8bfe0790c14e>\u001b[0m in \u001b[0;36m<module>\u001b[0;34m\u001b[0m\n\u001b[1;32m      7\u001b[0m \u001b[0mmenor\u001b[0m \u001b[0;34m=\u001b[0m \u001b[0;36m0\u001b[0m\u001b[0;34m\u001b[0m\u001b[0;34m\u001b[0m\u001b[0m\n\u001b[1;32m      8\u001b[0m \u001b[0;32mfor\u001b[0m \u001b[0mi\u001b[0m \u001b[0;32min\u001b[0m \u001b[0mrange\u001b[0m\u001b[0;34m(\u001b[0m\u001b[0;36m1\u001b[0m\u001b[0;34m,\u001b[0m\u001b[0;36m8\u001b[0m\u001b[0;34m)\u001b[0m\u001b[0;34m:\u001b[0m\u001b[0;34m\u001b[0m\u001b[0;34m\u001b[0m\u001b[0m\n\u001b[0;32m----> 9\u001b[0;31m   \u001b[0mpessoas\u001b[0m \u001b[0;34m=\u001b[0m \u001b[0mint\u001b[0m\u001b[0;34m(\u001b[0m\u001b[0minput\u001b[0m\u001b[0;34m(\u001b[0m\u001b[0;34m\"Em que ano a {} pessoa nasceu: \"\u001b[0m\u001b[0;34m.\u001b[0m\u001b[0mformat\u001b[0m\u001b[0;34m(\u001b[0m\u001b[0mi\u001b[0m\u001b[0;34m)\u001b[0m\u001b[0;34m)\u001b[0m\u001b[0;34m)\u001b[0m\u001b[0;34m\u001b[0m\u001b[0;34m\u001b[0m\u001b[0m\n\u001b[0m\u001b[1;32m     10\u001b[0m   \u001b[0;32mif\u001b[0m\u001b[0;34m(\u001b[0m\u001b[0matual\u001b[0m \u001b[0;34m-\u001b[0m \u001b[0mpessoas\u001b[0m \u001b[0;34m>\u001b[0m \u001b[0;36m18\u001b[0m\u001b[0;34m)\u001b[0m\u001b[0;34m:\u001b[0m\u001b[0;34m\u001b[0m\u001b[0;34m\u001b[0m\u001b[0m\n\u001b[1;32m     11\u001b[0m      \u001b[0mmaior\u001b[0m \u001b[0;34m+=\u001b[0m \u001b[0;36m1\u001b[0m\u001b[0;34m\u001b[0m\u001b[0;34m\u001b[0m\u001b[0m\n",
            "\u001b[0;32m/usr/local/lib/python3.7/dist-packages/ipykernel/kernelbase.py\u001b[0m in \u001b[0;36mraw_input\u001b[0;34m(self, prompt)\u001b[0m\n\u001b[1;32m    861\u001b[0m             \u001b[0mself\u001b[0m\u001b[0;34m.\u001b[0m\u001b[0m_parent_ident\u001b[0m\u001b[0;34m,\u001b[0m\u001b[0;34m\u001b[0m\u001b[0;34m\u001b[0m\u001b[0m\n\u001b[1;32m    862\u001b[0m             \u001b[0mself\u001b[0m\u001b[0;34m.\u001b[0m\u001b[0m_parent_header\u001b[0m\u001b[0;34m,\u001b[0m\u001b[0;34m\u001b[0m\u001b[0;34m\u001b[0m\u001b[0m\n\u001b[0;32m--> 863\u001b[0;31m             \u001b[0mpassword\u001b[0m\u001b[0;34m=\u001b[0m\u001b[0;32mFalse\u001b[0m\u001b[0;34m,\u001b[0m\u001b[0;34m\u001b[0m\u001b[0;34m\u001b[0m\u001b[0m\n\u001b[0m\u001b[1;32m    864\u001b[0m         )\n\u001b[1;32m    865\u001b[0m \u001b[0;34m\u001b[0m\u001b[0m\n",
            "\u001b[0;32m/usr/local/lib/python3.7/dist-packages/ipykernel/kernelbase.py\u001b[0m in \u001b[0;36m_input_request\u001b[0;34m(self, prompt, ident, parent, password)\u001b[0m\n\u001b[1;32m    902\u001b[0m             \u001b[0;32mexcept\u001b[0m \u001b[0mKeyboardInterrupt\u001b[0m\u001b[0;34m:\u001b[0m\u001b[0;34m\u001b[0m\u001b[0;34m\u001b[0m\u001b[0m\n\u001b[1;32m    903\u001b[0m                 \u001b[0;31m# re-raise KeyboardInterrupt, to truncate traceback\u001b[0m\u001b[0;34m\u001b[0m\u001b[0;34m\u001b[0m\u001b[0;34m\u001b[0m\u001b[0m\n\u001b[0;32m--> 904\u001b[0;31m                 \u001b[0;32mraise\u001b[0m \u001b[0mKeyboardInterrupt\u001b[0m\u001b[0;34m(\u001b[0m\u001b[0;34m\"Interrupted by user\"\u001b[0m\u001b[0;34m)\u001b[0m \u001b[0;32mfrom\u001b[0m \u001b[0;32mNone\u001b[0m\u001b[0;34m\u001b[0m\u001b[0;34m\u001b[0m\u001b[0m\n\u001b[0m\u001b[1;32m    905\u001b[0m             \u001b[0;32mexcept\u001b[0m \u001b[0mException\u001b[0m \u001b[0;32mas\u001b[0m \u001b[0me\u001b[0m\u001b[0;34m:\u001b[0m\u001b[0;34m\u001b[0m\u001b[0;34m\u001b[0m\u001b[0m\n\u001b[1;32m    906\u001b[0m                 \u001b[0mself\u001b[0m\u001b[0;34m.\u001b[0m\u001b[0mlog\u001b[0m\u001b[0;34m.\u001b[0m\u001b[0mwarning\u001b[0m\u001b[0;34m(\u001b[0m\u001b[0;34m\"Invalid Message:\"\u001b[0m\u001b[0;34m,\u001b[0m \u001b[0mexc_info\u001b[0m\u001b[0;34m=\u001b[0m\u001b[0;32mTrue\u001b[0m\u001b[0;34m)\u001b[0m\u001b[0;34m\u001b[0m\u001b[0;34m\u001b[0m\u001b[0m\n",
            "\u001b[0;31mKeyboardInterrupt\u001b[0m: Interrupted by user"
          ]
        }
      ]
    },
    {
      "cell_type": "markdown",
      "source": [
        "Exercício Python #055 - Maior e menor da sequência"
      ],
      "metadata": {
        "id": "2MRcE2IiO8_p"
      }
    },
    {
      "cell_type": "code",
      "source": [
        "import random \n",
        "\n",
        "\n",
        "peso = []\n",
        "maior = 0\n",
        "menor = 999\n",
        "\n",
        "for i in range(100):\n",
        "    peso_aleatorio = round(random.uniform(20,100),2)\n",
        "    peso.append(peso_aleatorio)\n",
        "    if(peso[i]>maior):\n",
        "      maior = peso[i]\n",
        "    elif(peso[i] <= menor):\n",
        "      menor = peso[i]\n",
        "      \n",
        "print(peso)\n",
        "print(f'O maior peso é {maior}')\n",
        "print(f'O menor peso é {menor}')\n",
        "\n",
        "# peso = random.sample(range(30,120),20)\n",
        "# print(peso)\n",
        "\n",
        "# print(round(random.uniform(22.2,44.4),2))\n",
        "\n",
        "# for i in range(1,20):\n",
        "#   peso.append(float(input(\"Digite o peso da {} pessoa: \".format(i))))\n",
        "\n",
        "# print(peso)"
      ],
      "metadata": {
        "colab": {
          "base_uri": "https://localhost:8080/"
        },
        "id": "JfcCVlMoOy_n",
        "outputId": "b83f9b42-3cd3-4abc-8e4a-3a1683e645d7"
      },
      "execution_count": null,
      "outputs": [
        {
          "output_type": "stream",
          "name": "stdout",
          "text": [
            "[62.99, 50.82, 22.91, 77.17, 30.5, 67.74, 43.1, 36.82, 21.75, 35.94, 75.04, 69.05, 72.89, 69.21, 66.84, 53.48, 52.97, 55.08, 67.58, 72.86, 91.16, 52.73, 36.86, 50.82, 54.29, 39.12, 77.55, 34.98, 48.84, 56.58, 32.29, 21.98, 49.49, 68.8, 46.54, 72.34, 21.34, 98.18, 72.11, 60.01, 39.51, 62.24, 30.31, 72.2, 33.87, 40.77, 89.15, 26.45, 57.44, 48.61, 70.34, 70.82, 87.66, 81.49, 31.99, 28.88, 86.6, 83.34, 20.2, 50.97, 72.31, 69.64, 78.28, 64.96, 85.88, 30.17, 91.18, 71.11, 98.57, 83.32, 25.17, 96.39, 73.97, 90.57, 62.55, 84.47, 74.16, 57.11, 87.27, 75.35, 40.46, 50.76, 54.76, 92.53, 97.21, 70.89, 99.61, 90.52, 77.53, 32.06, 22.22, 81.89, 46.36, 39.29, 67.9, 80.82, 25.22, 31.8, 34.01, 68.11]\n",
            "O maior peso é 99.61\n",
            "O menor peso é 20.2\n"
          ]
        }
      ]
    },
    {
      "cell_type": "markdown",
      "source": [
        "Exercício Python #060 - Cálculo do Fatorial"
      ],
      "metadata": {
        "id": "j_K1keJjT2NZ"
      }
    },
    {
      "cell_type": "code",
      "source": [
        "fat = []\n",
        "mult = 1\n",
        "num = int(input(\"Digite um numero para saber seu fatorial: \"))\n",
        "for i in range(num,0,-1):\n",
        "  mult *= i\n",
        "print(\"Seu fatorial é {}\".format(mult))"
      ],
      "metadata": {
        "colab": {
          "base_uri": "https://localhost:8080/",
          "height": 380
        },
        "id": "jM1bjOzIT1jq",
        "outputId": "0cdb0fde-4ac6-4281-949e-454ce127aae4"
      },
      "execution_count": null,
      "outputs": [
        {
          "output_type": "error",
          "ename": "KeyboardInterrupt",
          "evalue": "ignored",
          "traceback": [
            "\u001b[0;31m---------------------------------------------------------------------------\u001b[0m",
            "\u001b[0;31mKeyboardInterrupt\u001b[0m                         Traceback (most recent call last)",
            "\u001b[0;32m<ipython-input-71-6cec32929570>\u001b[0m in \u001b[0;36m<module>\u001b[0;34m\u001b[0m\n\u001b[1;32m      1\u001b[0m \u001b[0mfat\u001b[0m \u001b[0;34m=\u001b[0m \u001b[0;34m[\u001b[0m\u001b[0;34m]\u001b[0m\u001b[0;34m\u001b[0m\u001b[0;34m\u001b[0m\u001b[0m\n\u001b[1;32m      2\u001b[0m \u001b[0mmult\u001b[0m \u001b[0;34m=\u001b[0m \u001b[0;36m1\u001b[0m\u001b[0;34m\u001b[0m\u001b[0;34m\u001b[0m\u001b[0m\n\u001b[0;32m----> 3\u001b[0;31m \u001b[0mnum\u001b[0m \u001b[0;34m=\u001b[0m \u001b[0mint\u001b[0m\u001b[0;34m(\u001b[0m\u001b[0minput\u001b[0m\u001b[0;34m(\u001b[0m\u001b[0;34m\"Digite um numero para saber seu fatorial: \"\u001b[0m\u001b[0;34m)\u001b[0m\u001b[0;34m)\u001b[0m\u001b[0;34m\u001b[0m\u001b[0;34m\u001b[0m\u001b[0m\n\u001b[0m\u001b[1;32m      4\u001b[0m \u001b[0;32mfor\u001b[0m \u001b[0mi\u001b[0m \u001b[0;32min\u001b[0m \u001b[0mrange\u001b[0m\u001b[0;34m(\u001b[0m\u001b[0mnum\u001b[0m\u001b[0;34m,\u001b[0m\u001b[0;36m0\u001b[0m\u001b[0;34m,\u001b[0m\u001b[0;34m-\u001b[0m\u001b[0;36m1\u001b[0m\u001b[0;34m)\u001b[0m\u001b[0;34m:\u001b[0m\u001b[0;34m\u001b[0m\u001b[0;34m\u001b[0m\u001b[0m\n\u001b[1;32m      5\u001b[0m   \u001b[0mmult\u001b[0m \u001b[0;34m*=\u001b[0m \u001b[0mi\u001b[0m\u001b[0;34m\u001b[0m\u001b[0;34m\u001b[0m\u001b[0m\n",
            "\u001b[0;32m/usr/local/lib/python3.7/dist-packages/ipykernel/kernelbase.py\u001b[0m in \u001b[0;36mraw_input\u001b[0;34m(self, prompt)\u001b[0m\n\u001b[1;32m    861\u001b[0m             \u001b[0mself\u001b[0m\u001b[0;34m.\u001b[0m\u001b[0m_parent_ident\u001b[0m\u001b[0;34m,\u001b[0m\u001b[0;34m\u001b[0m\u001b[0;34m\u001b[0m\u001b[0m\n\u001b[1;32m    862\u001b[0m             \u001b[0mself\u001b[0m\u001b[0;34m.\u001b[0m\u001b[0m_parent_header\u001b[0m\u001b[0;34m,\u001b[0m\u001b[0;34m\u001b[0m\u001b[0;34m\u001b[0m\u001b[0m\n\u001b[0;32m--> 863\u001b[0;31m             \u001b[0mpassword\u001b[0m\u001b[0;34m=\u001b[0m\u001b[0;32mFalse\u001b[0m\u001b[0;34m,\u001b[0m\u001b[0;34m\u001b[0m\u001b[0;34m\u001b[0m\u001b[0m\n\u001b[0m\u001b[1;32m    864\u001b[0m         )\n\u001b[1;32m    865\u001b[0m \u001b[0;34m\u001b[0m\u001b[0m\n",
            "\u001b[0;32m/usr/local/lib/python3.7/dist-packages/ipykernel/kernelbase.py\u001b[0m in \u001b[0;36m_input_request\u001b[0;34m(self, prompt, ident, parent, password)\u001b[0m\n\u001b[1;32m    902\u001b[0m             \u001b[0;32mexcept\u001b[0m \u001b[0mKeyboardInterrupt\u001b[0m\u001b[0;34m:\u001b[0m\u001b[0;34m\u001b[0m\u001b[0;34m\u001b[0m\u001b[0m\n\u001b[1;32m    903\u001b[0m                 \u001b[0;31m# re-raise KeyboardInterrupt, to truncate traceback\u001b[0m\u001b[0;34m\u001b[0m\u001b[0;34m\u001b[0m\u001b[0;34m\u001b[0m\u001b[0m\n\u001b[0;32m--> 904\u001b[0;31m                 \u001b[0;32mraise\u001b[0m \u001b[0mKeyboardInterrupt\u001b[0m\u001b[0;34m(\u001b[0m\u001b[0;34m\"Interrupted by user\"\u001b[0m\u001b[0;34m)\u001b[0m \u001b[0;32mfrom\u001b[0m \u001b[0;32mNone\u001b[0m\u001b[0;34m\u001b[0m\u001b[0;34m\u001b[0m\u001b[0m\n\u001b[0m\u001b[1;32m    905\u001b[0m             \u001b[0;32mexcept\u001b[0m \u001b[0mException\u001b[0m \u001b[0;32mas\u001b[0m \u001b[0me\u001b[0m\u001b[0;34m:\u001b[0m\u001b[0;34m\u001b[0m\u001b[0;34m\u001b[0m\u001b[0m\n\u001b[1;32m    906\u001b[0m                 \u001b[0mself\u001b[0m\u001b[0;34m.\u001b[0m\u001b[0mlog\u001b[0m\u001b[0;34m.\u001b[0m\u001b[0mwarning\u001b[0m\u001b[0;34m(\u001b[0m\u001b[0;34m\"Invalid Message:\"\u001b[0m\u001b[0;34m,\u001b[0m \u001b[0mexc_info\u001b[0m\u001b[0;34m=\u001b[0m\u001b[0;32mTrue\u001b[0m\u001b[0;34m)\u001b[0m\u001b[0;34m\u001b[0m\u001b[0;34m\u001b[0m\u001b[0m\n",
            "\u001b[0;31mKeyboardInterrupt\u001b[0m: Interrupted by user"
          ]
        }
      ]
    },
    {
      "cell_type": "markdown",
      "source": [
        "Exercício Python #063 - Sequência de Fibonacci v1.0\n"
      ],
      "metadata": {
        "id": "znV22lRjVoh1"
      }
    },
    {
      "cell_type": "code",
      "source": [
        "\n",
        "print('---'*8)\n",
        "print('Sequência de Fibonacci')\n",
        "print('---'*8)\n",
        "\n",
        "num = int(input(\"Quantos termos vc quer mostrar: \"))\n",
        "t1 = 0\n",
        "t2 = 1\n",
        "print('{} -> {}'.format(t1,t2), end = '')\n",
        "cont = 3\n",
        "while cont <= num:\n",
        "  t3 = t1+t2\n",
        "  print('-> {} '.format(t3),end = '')\n",
        "  t1 = t2\n",
        "  t2 = t3\n",
        "  #lógica  -- 0 -> 1-> 1 -> 2 -> 3 -> 5 -> 8 -> FIM\n",
        "  #        -- t1   t2  t3 \n",
        "  #lógica  -- 0 -> 1-> 1 -> 2 -> 3 -> 5 -> 8 -> FIM\n",
        "  #        --      t1  t2  t3 \n",
        "  #lógica  -- 0 -> 1-> 1 -> 2 -> 3 -> 5 -> 8 -> FIM\n",
        "  #        --          t1  t2   t3 \n",
        "  cont += 1\n",
        "\n",
        "print('-> FIM')"
      ],
      "metadata": {
        "colab": {
          "base_uri": "https://localhost:8080/"
        },
        "id": "cHugY8MLVruG",
        "outputId": "d6c55d1e-18fd-44d1-c02e-c20b44cbd182"
      },
      "execution_count": null,
      "outputs": [
        {
          "output_type": "stream",
          "name": "stdout",
          "text": [
            "------------------------\n",
            "Sequência de Fibonacci\n",
            "------------------------\n",
            "Quantos termos vc quer mostrar: 7\n",
            "0 -> 1-> 1 -> 2 -> 3 -> 5 -> 8 -> FIM\n"
          ]
        }
      ]
    },
    {
      "cell_type": "markdown",
      "source": [
        "Exercício Python #064 - Tratando vários valores v1.0"
      ],
      "metadata": {
        "id": "lrGPEolubOvo"
      }
    },
    {
      "cell_type": "code",
      "source": [
        "num = cont = soma = 0\n",
        "num = int(input(\"Digite um número [999 para parar]: \"))\n",
        "while num != 999:\n",
        "  soma += num\n",
        "  cont += 1\n",
        "  num = int(input(\"Digite um número [999 para parar]: \"))\n",
        "\n",
        "print(f'Voce digitou {cont} números e a soma foi {soma}')"
      ],
      "metadata": {
        "colab": {
          "base_uri": "https://localhost:8080/"
        },
        "id": "AoWaManHbPSj",
        "outputId": "2a34c99b-d8ce-40f6-da65-bc5084e42239"
      },
      "execution_count": null,
      "outputs": [
        {
          "output_type": "stream",
          "name": "stdout",
          "text": [
            "Digite um número [999 para parar]: 9\n",
            "Digite um número [999 para parar]: 9\n",
            "Digite um número [999 para parar]: 9\n",
            "Digite um número [999 para parar]: 999\n",
            "Voce digitou 3 números e a soma foi 27\n"
          ]
        }
      ]
    },
    {
      "cell_type": "markdown",
      "source": [
        "Exercício Python #065 - Maior e Menor valores"
      ],
      "metadata": {
        "id": "AqjxJvlng28W"
      }
    },
    {
      "cell_type": "code",
      "source": [
        "resp = 'S'\n",
        "vet = []\n",
        "maior = soma = media = 0\n",
        "menor = 999999\n",
        "while resp in 'Ss':\n",
        "  num = int(input(\"Digite um número inteiro: \"))\n",
        "  vet.append(num)\n",
        "  resp = str(input(\"Quer continuar? [S/N]: \")).upper().strip()[0]\n",
        "  soma += num\n",
        "  if resp == 'N':\n",
        "    for i in range(len(vet)):\n",
        "      if vet[i] > maior:\n",
        "        maior = vet[i]\n",
        "      elif(vet[i] < menor):\n",
        "        menor = vet[i]\n",
        "    media = soma/ len(vet)\n",
        "print('Acabou')\n",
        "print(f'O maior número é {maior}')\n",
        "print(f'O menor número é {menor}')\n",
        "print(f'A media é {media}')\n"
      ],
      "metadata": {
        "colab": {
          "base_uri": "https://localhost:8080/"
        },
        "id": "9wUrdPW6g3sG",
        "outputId": "7033fd53-37d0-4b86-82e4-a81fdd1f937e"
      },
      "execution_count": null,
      "outputs": [
        {
          "output_type": "stream",
          "name": "stdout",
          "text": [
            "Digite um número inteiro: 6\n",
            "Quer continuar? [S/N]: s\n",
            "Digite um número inteiro: 8\n",
            "Quer continuar? [S/N]: s\n",
            "Digite um número inteiro: 2\n",
            "Quer continuar? [S/N]: s\n",
            "Digite um número inteiro: 4\n",
            "Quer continuar? [S/N]: n\n",
            "Acabou\n",
            "O maior número é 8\n",
            "O menor número é 2\n",
            "A media é 5.0\n"
          ]
        }
      ]
    },
    {
      "cell_type": "markdown",
      "source": [
        "Exercício Python #068 - Jogo do Par ou Ímpar"
      ],
      "metadata": {
        "id": "BNG6GAiFl1G1"
      }
    },
    {
      "cell_type": "code",
      "source": [
        "from random import randint\n",
        "from time import sleep\n",
        "\n",
        "print(\"-=\"* 12)\n",
        "print(\"VAMOS JOGAR PAR PU ÍMPAR\")\n",
        "print(\"-=\"* 12)\n",
        "\n",
        "num = int(input(\"Digite um número: \"))\n",
        "num_pc = randint(1,10)\n",
        "\n",
        "cond = str(input(\"Par ou Ímpar? [P/I] : \")).upper().strip()[0]\n",
        "soma = num + num_pc\n",
        "if (soma % 2 == 0 and cond == 'P'):\n",
        "  sleep(1)\n",
        "  print(\"Voce Venceu\")\n",
        "  print(f'Vc escolhe o num {num} e a condição Par e eu escolhi o numero {num_pc}, a soma foi {soma}, portanto Par')\n",
        "elif (soma % 2 == 1 and cond == 'I'):\n",
        "  sleep(1)\n",
        "  print(\"Voce Venceu\")\n",
        "  print(f'Vc escolhe o num {num} e a condição Ímpar e eu escolhi o numero {num_pc}, a soma foi {soma}, portanto Ímpar')\n",
        "else:\n",
        "  sleep(1)\n",
        "  if cond == 'P':\n",
        "    cond_pc = 'Ímpar'\n",
        "  else:\n",
        "    cond_pc = 'Par'\n",
        "  print(\"Eu ganhei\")\n",
        "  print(f'Vc escolheu o número {num} e eu escolhi o numero {num_pc}, a soma foi {soma}, portanto {cond_pc}')\n"
      ],
      "metadata": {
        "colab": {
          "base_uri": "https://localhost:8080/"
        },
        "id": "NAZb8yfIl18R",
        "outputId": "21536e98-c66e-44bc-d686-36ee154695a9"
      },
      "execution_count": null,
      "outputs": [
        {
          "output_type": "stream",
          "name": "stdout",
          "text": [
            "-=-=-=-=-=-=-=-=-=-=-=-=\n",
            "VAMOS JOGAR PAR PU ÍMPAR\n",
            "-=-=-=-=-=-=-=-=-=-=-=-=\n",
            "Digite um número: 2\n",
            "Par ou Ímpar? [P/I] : i\n",
            "Eu ganhei\n",
            "Vc escolheu o número 2 e eu escolhi o numero 2, a soma foi 4, portanto Par\n"
          ]
        }
      ]
    },
    {
      "cell_type": "markdown",
      "source": [
        "Exercício Python #069 - Análise de dados do grupo"
      ],
      "metadata": {
        "id": "hE51-jyirGrg"
      }
    },
    {
      "cell_type": "code",
      "source": [
        "mais18 = 0\n",
        "homens = 0\n",
        "mulher_menor20 = 0\n",
        "while True:\n",
        "  idade = int(input('Idade: '))\n",
        "  sexo = ' '\n",
        "  while sexo not in 'MF':\n",
        "    sexo = str(input('Sexo: [M/F]')).upper().strip()[0]\n",
        "\n",
        "  if idade > 18:\n",
        "    mais18 += 1\n",
        "  \n",
        "  if sexo == 'M':\n",
        "    homens += 1\n",
        "  \n",
        "  elif sexo == 'F' and idade <= 20:\n",
        "    mulher_menor20 += 1\n",
        "  resp = ' '\n",
        "  \n",
        "  while resp not in 'SN':\n",
        "    resp = str(input(\"Quer continuar? [S/N] \")).upper().strip()[0]\n",
        "  \n",
        "  if resp == 'N':\n",
        "    break\n",
        "\n",
        "print('Acabou')   \n",
        "print(\"São {} homens\".format(homens))  \n",
        "print(\"São {} mulheres com menos de 20 anos\".format(mulher_menor20))\n"
      ],
      "metadata": {
        "colab": {
          "base_uri": "https://localhost:8080/"
        },
        "id": "1KI-zWPbrHKw",
        "outputId": "dc26fe90-20f8-4cfa-a7d7-e691aa70052b"
      },
      "execution_count": null,
      "outputs": [
        {
          "output_type": "stream",
          "name": "stdout",
          "text": [
            "Idade: 32\n",
            "Sexo: [M/F]f\n",
            "Quer continuar? [S/N] s\n",
            "Idade: 12\n",
            "Sexo: [M/F]f\n",
            "Quer continuar? [S/N] s\n",
            "Idade: 45\n",
            "Sexo: [M/F]m\n",
            "Quer continuar? [S/N] s\n",
            "Idade: 13\n",
            "Sexo: [M/F]f\n",
            "Quer continuar? [S/N] s\n",
            "Idade: 87\n",
            "Sexo: [M/F]m\n",
            "Quer continuar? [S/N] s\n",
            "Idade: 21\n",
            "Sexo: [M/F]f\n",
            "Quer continuar? [S/N] n\n",
            "Acabou\n",
            "São 2 homens\n",
            "São 2 mulheres com menos de 20 anos\n"
          ]
        }
      ]
    },
    {
      "cell_type": "markdown",
      "source": [
        "Exercício Python #072 - Número por Extenso"
      ],
      "metadata": {
        "id": "ddgY7OP4yedK"
      }
    },
    {
      "cell_type": "code",
      "source": [
        "numeros = (\"zero\", \"um\", \"dois\", \"três\", \"quatro\", \"cinco\", \"seis\", \"sete\", \"oito\", \"nove\", \"dez\")\n",
        "\n",
        "while True:\n",
        "  num = int(input(\"Digite um número de 1 a 10: \"))\n",
        "  while num <= 0 and num >= 10:\n",
        "    num = int(input(\"Digite um número de 1 a 10: \"))\n",
        "  print(\"Voce digitou o numero {} \".format(numeros[num]))\n",
        "  resp = ' '\n",
        "  while resp not in 'SN':\n",
        "    resp = str(input(\"Deseja parar: [S/N]\")).upper().strip()[0]\n",
        "  if resp == 'S':\n",
        "    break"
      ],
      "metadata": {
        "colab": {
          "base_uri": "https://localhost:8080/"
        },
        "id": "RR-rJb7mye0J",
        "outputId": "dd06e8d8-1a2a-4d6e-e584-087526a4c825"
      },
      "execution_count": null,
      "outputs": [
        {
          "name": "stdout",
          "output_type": "stream",
          "text": [
            "Digite um número de 1 a 10: 4\n",
            "Voce digitou o numero quatro \n",
            "Deseja parar: [S/N]n\n",
            "Digite um número de 1 a 10: 3\n",
            "Voce digitou o numero três \n",
            "Deseja parar: [S/N]s\n"
          ]
        }
      ]
    },
    {
      "cell_type": "markdown",
      "source": [],
      "metadata": {
        "id": "_j4mOwv710ve"
      }
    },
    {
      "cell_type": "code",
      "source": [
        "time = ('Corinthians', 'Palmeiras', 'Santos', 'Grêmio', 'Cruzeiro', 'Flamengo', 'Vasco', \n",
        "        'Chapecoense', 'Atlético', 'Bahia', 'São Paulo', 'Fluminense', 'Sport', 'Vitória', \n",
        "        'Coritiba', 'Avaí', 'Ponte Preta', 'Atlético - GO')\n",
        "print('-='*20)\n",
        "for t in time:\n",
        "  print(t)\n",
        "print('-='*20)\n",
        "print(f'Os cincos primeiros times são: {time[0:5]}')\n",
        "print('-='*20)\n",
        "print(f'Os 4 últimos colocados são: {time[-4:]}')\n",
        "print('-='*20)\n",
        "print(f'O chapecoense está na posição {time.index(\"Chapecoense\") + 1} ')\n",
        "print('-='*20)\n",
        "print(f'Em ordem alfabética {sorted(time)}')"
      ],
      "metadata": {
        "colab": {
          "base_uri": "https://localhost:8080/"
        },
        "id": "jNBaDrLS11ll",
        "outputId": "fb769ee7-e866-4b38-a5b1-77f8c698ffc0"
      },
      "execution_count": null,
      "outputs": [
        {
          "output_type": "stream",
          "name": "stdout",
          "text": [
            "-=-=-=-=-=-=-=-=-=-=-=-=-=-=-=-=-=-=-=-=\n",
            "Corinthians\n",
            "Palmeiras\n",
            "Santos\n",
            "Grêmio\n",
            "Cruzeiro\n",
            "Flamengo\n",
            "Vasco\n",
            "Chapecoense\n",
            "Atlético\n",
            "Bahia\n",
            "São Paulo\n",
            "Fluminense\n",
            "Sport\n",
            "Vitória\n",
            "Coritiba\n",
            "Avaí\n",
            "Ponte Preta\n",
            "Atlético - GO\n",
            "-=-=-=-=-=-=-=-=-=-=-=-=-=-=-=-=-=-=-=-=\n",
            "Os cincos primeiros times são: ('Corinthians', 'Palmeiras', 'Santos', 'Grêmio', 'Cruzeiro')\n",
            "-=-=-=-=-=-=-=-=-=-=-=-=-=-=-=-=-=-=-=-=\n",
            "Os 4 últimos colocados são: ('Coritiba', 'Avaí', 'Ponte Preta', 'Atlético - GO')\n",
            "-=-=-=-=-=-=-=-=-=-=-=-=-=-=-=-=-=-=-=-=\n",
            "O chapecoense está na posição 8 \n",
            "-=-=-=-=-=-=-=-=-=-=-=-=-=-=-=-=-=-=-=-=\n",
            "Em ordem alfabética ['Atlético', 'Atlético - GO', 'Avaí', 'Bahia', 'Chapecoense', 'Corinthians', 'Coritiba', 'Cruzeiro', 'Flamengo', 'Fluminense', 'Grêmio', 'Palmeiras', 'Ponte Preta', 'Santos', 'Sport', 'São Paulo', 'Vasco', 'Vitória']\n"
          ]
        }
      ]
    },
    {
      "cell_type": "markdown",
      "source": [
        "Exercício Python #074 - Maior e menor valores em Tupla"
      ],
      "metadata": {
        "id": "OU9tgao74phm"
      }
    },
    {
      "cell_type": "code",
      "source": [
        "from random import randint \n",
        "\n",
        "n = (randint(1,10),randint(1,10),randint(1,10),randint(1,10),randint(1,10))\n",
        "\n",
        "maior = 0\n",
        "menor = 999999\n",
        "print('Os valores sorteados foram: ')\n",
        "print(n)\n",
        "# for i in n:\n",
        "#   print(i, end = ' ')\n",
        "#   if i > maior:\n",
        "#     maior = i\n",
        "#   elif i < menor:\n",
        "#     menor = i\n",
        "\n",
        "print(f'\\nO maior número é {max(n)} e o menor número é {min(n)}')\n"
      ],
      "metadata": {
        "id": "YeJZxKLn4qdp",
        "colab": {
          "base_uri": "https://localhost:8080/"
        },
        "outputId": "4fce5604-9cf9-4754-e09e-a61a3bbb9043"
      },
      "execution_count": null,
      "outputs": [
        {
          "output_type": "stream",
          "name": "stdout",
          "text": [
            "Os valores sorteados foram: \n",
            "(10, 9, 10, 8, 7)\n",
            "\n",
            "O maior número é 10 e o menor número é 7\n"
          ]
        }
      ]
    },
    {
      "cell_type": "markdown",
      "source": [
        "Exercício Python #075 - Análise de dados em uma Tupla"
      ],
      "metadata": {
        "id": "Gj9rDoSUGo8v"
      }
    },
    {
      "cell_type": "code",
      "source": [
        "núm = (int(input('Digite o primeiro número: ')),int(input('Digite o segundo número: ')),int(input('Digite o terceiro número: ')),int(input('Digite o quarto número: ')))\n",
        "\n",
        "print(f'Voce digitou esse números: {núm} ')\n",
        "print(f'O valor 9 apareceu {núm.count(9)} vezes')\n",
        "if 3 in núm:\n",
        "  print(f'O valor 3 aparece na posição {núm.index(3)+1}')\n",
        "print('o valor 3 não foi digitado')\n",
        "print(f'os valores pares digitados foram: ', end='')\n",
        "for i in núm:\n",
        "  if i % 2 == 0:\n",
        "    print(i, end = ' ')\n"
      ],
      "metadata": {
        "colab": {
          "base_uri": "https://localhost:8080/"
        },
        "id": "UtSAjsXIGpiL",
        "outputId": "6c72c4fe-95e3-4dd9-f2ae-c77b90948767"
      },
      "execution_count": null,
      "outputs": [
        {
          "output_type": "stream",
          "name": "stdout",
          "text": [
            "Digite o primeiro número: 1\n",
            "Digite o segundo número: 2\n",
            "Digite o terceiro número: 3\n",
            "Digite o quarto número: 4\n",
            "Voce digitou esse números: (1, 2, 3, 4) \n",
            "O valor 9 apareceu 0 vezes\n",
            "O valor 3 aparece na posição 3\n",
            "o valor 3 não foi digitado\n",
            "os valores pares digitados foram: 2 4 "
          ]
        }
      ]
    },
    {
      "cell_type": "markdown",
      "source": [
        "Exercício Python #076 - Lista de Preços com Tupla"
      ],
      "metadata": {
        "id": "yByTro1vJJXH"
      }
    },
    {
      "cell_type": "code",
      "source": [
        "listagem = ('Lápis', 1.75,\n",
        "            'Borracha', 2,\n",
        "            'Caderno', 15.90,\n",
        "            'Estojo', 25,\n",
        "            'Transferidor', 4.20,\n",
        "            'Compasso', 9.99,\n",
        "            'Mochila', 120.90,\n",
        "            'Caneta', 22.30,\n",
        "            'Livro', 34.90\n",
        ")\n",
        "print('-'*38)\n",
        "print(f'{\"LISTAGEM DE PREÇOS\":^37}')\n",
        "print('-'*38)\n",
        "for item in range(0,len(listagem)):\n",
        "  if item % 2 == 0:\n",
        "    print(f'{listagem[item]:.<30}', end='')\n",
        "  else:\n",
        "    print(f'R${listagem[item]:>6}')\n",
        "print('-'*38)\n",
        "print('-'*38)"
      ],
      "metadata": {
        "colab": {
          "base_uri": "https://localhost:8080/"
        },
        "id": "L7kvTg5MJKCE",
        "outputId": "01cf26e8-1209-4d54-b3a8-213ea5c9d442"
      },
      "execution_count": null,
      "outputs": [
        {
          "output_type": "stream",
          "name": "stdout",
          "text": [
            "--------------------------------------\n",
            "         LISTAGEM DE PREÇOS          \n",
            "--------------------------------------\n",
            "Lápis.........................R$  1.75\n",
            "Borracha......................R$     2\n",
            "Caderno.......................R$  15.9\n",
            "Estojo........................R$    25\n",
            "Transferidor..................R$   4.2\n",
            "Compasso......................R$  9.99\n",
            "Mochila.......................R$ 120.9\n",
            "Caneta........................R$  22.3\n",
            "Livro.........................R$  34.9\n",
            "--------------------------------------\n",
            "--------------------------------------\n"
          ]
        }
      ]
    },
    {
      "cell_type": "markdown",
      "source": [
        "Exercício Python #077 - Contando vogais em Tupla"
      ],
      "metadata": {
        "id": "_IgX_sBhMVrW"
      }
    },
    {
      "cell_type": "code",
      "source": [
        "palavras = ('aprender','programar','linguagem', 'python', \n",
        "            'curso', 'gratis', 'estudar','praticar', 'trabalhar', \n",
        "            'mercado', 'programador', 'futuro')\n",
        "vogal = []\n",
        "cont = 0 \n",
        "qtdade_letras = 0 \n",
        "proxima_palavra = False\n",
        "for p in palavras:\n",
        "  print(f'\\nNa palavra {p.upper()} temos as vogais: ', end='')\n",
        "  for letra in p:\n",
        "    qtdade_letras += 1\n",
        "    if letra in 'aeiou':\n",
        "      print(f'{letra.upper()}', end = '')\n",
        "      cont += 1\n",
        "  vogal.append(cont)\n",
        "  ultimo = vogal[len(vogal) - 1]\n",
        "  penultimo = vogal[len(vogal) - 2] \n",
        "\n",
        "  \n",
        "  print(f', ou seja, temos {ultimo - penultimo} vogais')\n",
        "\n",
        "  \n",
        "  "
      ],
      "metadata": {
        "colab": {
          "base_uri": "https://localhost:8080/"
        },
        "id": "-3D5tJTNMWJ8",
        "outputId": "3ea1185d-c2c6-45a1-c289-3fdb5d9d85e3"
      },
      "execution_count": null,
      "outputs": [
        {
          "output_type": "stream",
          "name": "stdout",
          "text": [
            "\n",
            "Na palavra APRENDER temos as vogais: AEE, ou seja, temos 0 vogais\n",
            "\n",
            "Na palavra PROGRAMAR temos as vogais: OAA, ou seja, temos 3 vogais\n",
            "\n",
            "Na palavra LINGUAGEM temos as vogais: IUAE, ou seja, temos 4 vogais\n",
            "\n",
            "Na palavra PYTHON temos as vogais: O, ou seja, temos 1 vogais\n",
            "\n",
            "Na palavra CURSO temos as vogais: UO, ou seja, temos 2 vogais\n",
            "\n",
            "Na palavra GRATIS temos as vogais: AI, ou seja, temos 2 vogais\n",
            "\n",
            "Na palavra ESTUDAR temos as vogais: EUA, ou seja, temos 3 vogais\n",
            "\n",
            "Na palavra PRATICAR temos as vogais: AIA, ou seja, temos 3 vogais\n",
            "\n",
            "Na palavra TRABALHAR temos as vogais: AAA, ou seja, temos 3 vogais\n",
            "\n",
            "Na palavra MERCADO temos as vogais: EAO, ou seja, temos 3 vogais\n",
            "\n",
            "Na palavra PROGRAMADOR temos as vogais: OAAO, ou seja, temos 4 vogais\n",
            "\n",
            "Na palavra FUTURO temos as vogais: UUO, ou seja, temos 3 vogais\n"
          ]
        }
      ]
    },
    {
      "cell_type": "markdown",
      "source": [
        "Exercício Python #078 - Maior e Menor valores na Lista"
      ],
      "metadata": {
        "id": "QW0TBcxraS2C"
      }
    },
    {
      "cell_type": "code",
      "source": [
        "num = []\n",
        "for i in range(4):\n",
        "  num.append(int(input(f'Digite um valor para a posição {i}: ')))\n",
        "print(f'Você digitou os valores: {num}')\n",
        "print(f'O maior valor digitado foi {max(num)} na posição {num.index(max(num))} e o menor foi {min(num)} na posicao {num.index(min(num ))}')"
      ],
      "metadata": {
        "colab": {
          "base_uri": "https://localhost:8080/"
        },
        "id": "79cVL9iSaX59",
        "outputId": "8519b58f-3ee2-48b6-ecbb-6768ac7f5530"
      },
      "execution_count": null,
      "outputs": [
        {
          "output_type": "stream",
          "name": "stdout",
          "text": [
            "Digite um valor para a posição 0: 3\n",
            "Digite um valor para a posição 1: 21\n",
            "Digite um valor para a posição 2: 65\n",
            "Digite um valor para a posição 3: 0\n",
            "Você digitou os valores: [3, 21, 65, 0]\n",
            "O maior valor digitado foi 65 na posição 2 e o menor foi 0 na posicao 3\n"
          ]
        }
      ]
    },
    {
      "cell_type": "markdown",
      "source": [
        "Exercício Python #079 - Valores únicos em uma Lista"
      ],
      "metadata": {
        "id": "BXn4cB6Rc14H"
      }
    },
    {
      "cell_type": "code",
      "source": [
        "números = list()\n",
        "while True:\n",
        "  n = int(input('Digite um valor: '))\n",
        "  if n not in números:\n",
        "    números.append(n)\n",
        "  else:\n",
        "    print('Valor Duplicado')\n",
        "  r = str(input('Quer continuar? [S/N]')).upper().strip()[0]\n",
        "  while r not in 'SN':\n",
        "    r = str(input('Valor inválido, tente novamente! Quer continuar? [S/N]')).upper().strip()[0]\n",
        "  if r == 'N':\n",
        "    break \n",
        "\n",
        "print('-'*20)\n",
        "print(f'Vc adicionou os números : {números}')"
      ],
      "metadata": {
        "colab": {
          "base_uri": "https://localhost:8080/"
        },
        "id": "QTRK75b8c2eG",
        "outputId": "f0ed05b2-5ec0-41e7-bbc4-226a11f5626d"
      },
      "execution_count": null,
      "outputs": [
        {
          "output_type": "stream",
          "name": "stdout",
          "text": [
            "Digite um valor: 2\n",
            "Quer continuar? [S/N]s\n",
            "Digite um valor: 2\n",
            "Valor Duplicado\n",
            "Quer continuar? [S/N]a\n",
            "Valor inválido, tente novamente! Quer continuar? [S/N]s\n",
            "Digite um valor: 2\n",
            "Valor Duplicado\n",
            "Quer continuar? [S/N]s\n",
            "Digite um valor: 1\n",
            "Quer continuar? [S/N]n\n",
            "--------------------\n",
            "Vc digitou os números : [2, 1]\n"
          ]
        }
      ]
    },
    {
      "cell_type": "markdown",
      "source": [
        "Exercício Python #080 - Lista ordenada sem repetições"
      ],
      "metadata": {
        "id": "TJ3oi_2UfvqD"
      }
    },
    {
      "cell_type": "code",
      "source": [
        "lista = []\n",
        "for i in range(5):\n",
        "  num = int(input(\"Digite um número:  \"))\n",
        "  if(i == 0 or num >= lista[-1]):\n",
        "    lista.append(num)\n",
        "  else:\n",
        "    pos = 0\n",
        "    while pos < len(lista):\n",
        "      if num <= lista[pos]:\n",
        "        lista.insert(pos, num)\n",
        "        break\n",
        "      pos += 1\n",
        "print(\"-=-\"*30)\n",
        "print(f'Os valores digitados foram: {lista}')"
      ],
      "metadata": {
        "colab": {
          "base_uri": "https://localhost:8080/"
        },
        "id": "CUuEvwDsfqTz",
        "outputId": "1460ee38-0991-4bb2-e56f-b75c3ffe29bb"
      },
      "execution_count": null,
      "outputs": [
        {
          "output_type": "stream",
          "name": "stdout",
          "text": [
            "Digite um número:  3\n",
            "Digite um número:  1\n",
            "Digite um número:  2\n",
            "Digite um número:  4\n",
            "Digite um número:  5\n",
            "0-0-0-0-0-0-0-0-0-0-0-0-0-0-0-0-0-0-0-0-0-0-0-0-0-0-0-0-0-0-\n",
            "Os valores digitados foram: [1, 2, 3, 4, 5]\n"
          ]
        }
      ]
    },
    {
      "cell_type": "markdown",
      "source": [
        "Exercício Python #081 - Extraindo dados de uma Lista\n"
      ],
      "metadata": {
        "id": "Q2UW6euZkzDw"
      }
    },
    {
      "cell_type": "code",
      "source": [
        "lista = []\n",
        "while True:\n",
        "  lista.append(int(input('Digite um valor:  ')))\n",
        "  cond = str(input(\"Quer continuar? [S/N]\")).upper().strip()\n",
        "\n",
        "  if cond == 'N':\n",
        "      break;\n",
        "    \n",
        "  while cond in 'S':\n",
        "    n = int(input(\"Digite um número: \"))\n",
        "    if cond == 'N':\n",
        "      break;\n",
        "    else:\n",
        "      lista.append(n)\n",
        "      lista.sort(reverse=True)\n",
        "      cond = str(input(\"Quer continuar? [S/N]\")).upper().strip()\n",
        "  break\n",
        "print(lista, end = '')\n",
        "print(f'Voce digitou {len(lista)} valores')\n",
        "print(f'O maior número é {max(lista)}')    \n",
        "if 5 in lista:\n",
        "  print('O 5 faz parte da lista')\n",
        "else:\n",
        "  print(\"O valor 5 não foi encontrado\")\n"
      ],
      "metadata": {
        "colab": {
          "base_uri": "https://localhost:8080/"
        },
        "id": "x-aC7u80gzgw",
        "outputId": "907fceb6-3afc-46a2-9a9f-61539c8e7b23"
      },
      "execution_count": null,
      "outputs": [
        {
          "output_type": "stream",
          "name": "stdout",
          "text": [
            "Digite um valor:  3\n",
            "Quer continuar? [S/N]1\n",
            "[3]Voce digitou 1 valores\n",
            "O maior número é 3\n",
            "O valor 5 não foi encontrado\n"
          ]
        }
      ]
    },
    {
      "cell_type": "markdown",
      "source": [
        "Exercício Python #086 - Matriz em Python\n"
      ],
      "metadata": {
        "id": "G5z2hWktqpbD"
      }
    },
    {
      "cell_type": "code",
      "source": [
        "matriz = [[0,0,0],[0,0,0],[0,0,0]]\n",
        "\n",
        "for linha in range(0,3):\n",
        "  for coluna in range(0,3):\n",
        "    matriz[linha][coluna] = int(input(\"Digite um valor para a linha {} e coluna {}: \".format(linha,coluna)))\n",
        "print(\"-=\"*30)\n",
        "\n",
        "for linha in range(0,3):\n",
        "  for coluna in range(0,3):\n",
        "    print(f'[{matriz[linha][coluna]}]', end = '')\n",
        "  print()\n",
        "\n"
      ],
      "metadata": {
        "colab": {
          "base_uri": "https://localhost:8080/"
        },
        "id": "cLdXpEaPr4fB",
        "outputId": "320cffb2-f46b-49e7-d74d-99c6565179ab"
      },
      "execution_count": null,
      "outputs": [
        {
          "output_type": "stream",
          "name": "stdout",
          "text": [
            "Digite um valor para a linha 0 e coluna 0: 1\n",
            "Digite um valor para a linha 0 e coluna 1: 2\n",
            "Digite um valor para a linha 0 e coluna 2: 3\n",
            "Digite um valor para a linha 1 e coluna 0: 4\n",
            "Digite um valor para a linha 1 e coluna 1: 5\n",
            "Digite um valor para a linha 1 e coluna 2: 6\n",
            "Digite um valor para a linha 2 e coluna 0: 7\n",
            "Digite um valor para a linha 2 e coluna 1: 8\n",
            "Digite um valor para a linha 2 e coluna 2: 9\n",
            "-=-=-=-=-=-=-=-=-=-=-=-=-=-=-=-=-=-=-=-=-=-=-=-=-=-=-=-=-=-=\n",
            "[1][2][3]\n",
            "[4][5][6]\n",
            "[7][8][9]\n"
          ]
        }
      ]
    },
    {
      "cell_type": "markdown",
      "source": [
        "Exercício Python #087 - Mais sobre Matriz em Python\n"
      ],
      "metadata": {
        "id": "UiM1pCbRufDO"
      }
    },
    {
      "cell_type": "code",
      "source": [
        "matriz = [[0,0,0],[0,0,0],[0,0,0]]\n",
        "par = 0\n",
        "soma_coluna_3 = 0\n",
        "maior_linha_2 = 0\n",
        "for linha in range(0,3):\n",
        "  for coluna in range(0,3):\n",
        "    matriz[linha][coluna] = int(input(\"Digite um valor para a linha {} e coluna {}: \".format(linha,coluna)))\n",
        "    if matriz[linha][coluna] % 2 == 0:\n",
        "      par += matriz[linha][coluna]\n",
        "    if coluna == 2:\n",
        "      soma_coluna_3 += matriz[linha][coluna]\n",
        "    if linha == 2:\n",
        "      if matriz[linha][coluna] > maior_linha_2:\n",
        "        maior_linha_2 = matriz[linha][coluna]\n",
        "print(\"-=\"*30)\n",
        "for linha in range(0,3):\n",
        "  for coluna in range(0,3):\n",
        "    print(f'[{matriz[linha][coluna]}]', end = '')\n",
        "  print()\n",
        "print(\"-=\"*30)\n",
        "print(f'\\nA soma dos pares é {par}\\n')\n",
        "print(f'A soma da coluna 3 é {soma_coluna_3}')\n",
        "print(f'O maior da linha 2 é {maior_linha_2}')"
      ],
      "metadata": {
        "colab": {
          "base_uri": "https://localhost:8080/"
        },
        "id": "LGeH-qSYufbn",
        "outputId": "3a42d76c-ae78-4971-80eb-af910999e9b2"
      },
      "execution_count": null,
      "outputs": [
        {
          "output_type": "stream",
          "name": "stdout",
          "text": [
            "Digite um valor para a linha 0 e coluna 0: 1\n",
            "Digite um valor para a linha 0 e coluna 1: 1\n",
            "Digite um valor para a linha 0 e coluna 2: 1\n",
            "Digite um valor para a linha 1 e coluna 0: 1\n",
            "Digite um valor para a linha 1 e coluna 1: 1\n",
            "Digite um valor para a linha 1 e coluna 2: 1\n",
            "Digite um valor para a linha 2 e coluna 0: 1\n",
            "Digite um valor para a linha 2 e coluna 1: 1\n",
            "Digite um valor para a linha 2 e coluna 2: 1\n",
            "-=-=-=-=-=-=-=-=-=-=-=-=-=-=-=-=-=-=-=-=-=-=-=-=-=-=-=-=-=-=\n",
            "[1][1][1]\n",
            "[1][1][1]\n",
            "[1][1][1]\n",
            "-=-=-=-=-=-=-=-=-=-=-=-=-=-=-=-=-=-=-=-=-=-=-=-=-=-=-=-=-=-=\n",
            "\n",
            "A soma dos pares é 0\n",
            "\n",
            "A soma da coluna 3 é 3\n",
            "O maior da linha 2 é 1\n"
          ]
        }
      ]
    },
    {
      "cell_type": "markdown",
      "source": [
        "Exercício Python #096 - Função que calcula área\n"
      ],
      "metadata": {
        "id": "k0oMzFfD4GdL"
      }
    },
    {
      "cell_type": "code",
      "source": [
        "def calc_area(l,c):\n",
        "  return l*c\n",
        "\n",
        "print(\"Controle de Terrenos\")\n",
        "print(\"--\"*10)\n",
        "\n",
        "l = float(input('Digite a largura do terreno: '))\n",
        "c = float(input('Digite o comprimento do terreno: '))\n",
        "print(f'A área do terreno é : {calc_area(l,c)} m^2')"
      ],
      "metadata": {
        "colab": {
          "base_uri": "https://localhost:8080/"
        },
        "id": "4CahePvm4GzC",
        "outputId": "262783ac-3fd1-40c5-cd57-ff69f583cc3e"
      },
      "execution_count": null,
      "outputs": [
        {
          "output_type": "stream",
          "name": "stdout",
          "text": [
            "Controle de Terrenos\n",
            "--------------------\n",
            "Digite a largura do terreno: 2.3\n",
            "Digite o comprimento do terreno: 2\n",
            "A área do terreno é : 4.6 m^2\n"
          ]
        }
      ]
    },
    {
      "cell_type": "markdown",
      "source": [
        "Exercício Python #097 - Um print especial\n"
      ],
      "metadata": {
        "id": "vpKGhfnT5JYI"
      }
    },
    {
      "cell_type": "code",
      "source": [
        "def print_titulo(titulo = str()):\n",
        "  tam = len(titulo) + 4\n",
        "  print(\"~\"*tam)\n",
        "  print(f'  {titulo}')\n",
        "  print(\"~\"*tam)\n",
        "\n",
        "frase = \"Jogo da Velha\"\n",
        "print_titulo(frase)"
      ],
      "metadata": {
        "colab": {
          "base_uri": "https://localhost:8080/"
        },
        "id": "tCQ-obbT5J-z",
        "outputId": "437381c8-0222-4c90-bcbf-68c2c17f2edf"
      },
      "execution_count": null,
      "outputs": [
        {
          "output_type": "stream",
          "name": "stdout",
          "text": [
            "~~~~~~~~~~~~~~~~~\n",
            "  Jogo da Velha\n",
            "~~~~~~~~~~~~~~~~~\n"
          ]
        }
      ]
    },
    {
      "cell_type": "markdown",
      "source": [
        "Exercício Python #098 - Função de Contador\n"
      ],
      "metadata": {
        "id": "BGMjg8PQ7HHy"
      }
    },
    {
      "cell_type": "code",
      "source": [
        "def contador(inicio,fim,passo):\n",
        "  lista = list()\n",
        "  for i in range(inicio,fim,passo):\n",
        "    lista.append(i)\n",
        "  return lista\n",
        "\n",
        "inicio = 100\n",
        "fim = 10\n",
        "passo = -2\n",
        "print(contador(inicio,fim,passo))\n",
        "\n",
        "\n"
      ],
      "metadata": {
        "colab": {
          "base_uri": "https://localhost:8080/"
        },
        "id": "i2XY4rOc7Hiz",
        "outputId": "ede96f9d-0cc5-4e77-edfa-ef3f34159df4"
      },
      "execution_count": null,
      "outputs": [
        {
          "output_type": "stream",
          "name": "stdout",
          "text": [
            "[100, 98, 96, 94, 92, 90, 88, 86, 84, 82, 80, 78, 76, 74, 72, 70, 68, 66, 64, 62, 60, 58, 56, 54, 52, 50, 48, 46, 44, 42, 40, 38, 36, 34, 32, 30, 28, 26, 24, 22, 20, 18, 16, 14, 12]\n"
          ]
        }
      ]
    },
    {
      "cell_type": "markdown",
      "source": [
        "Exercício Python #102 - Função para Fatorial\n"
      ],
      "metadata": {
        "id": "go-T3px08rvO"
      }
    },
    {
      "cell_type": "code",
      "source": [
        "import math\n",
        "\n",
        "def print_titulo(titulo = str()):\n",
        "  tam = len(titulo) + 4\n",
        "  print(\"~\"*tam)\n",
        "  print(f'  {titulo}')\n",
        "  print(\"~\"*tam)\n",
        "\n",
        "def fatorial(num,show = bool):\n",
        "  for i in range(num,0,-1):\n",
        "    if show == True:\n",
        "      if i > 1:\n",
        "        print(f'{i} x',end=' ')\n",
        "      else:\n",
        "        print(i, end= ' = ')\n",
        "        fatorial_num = math.factorial(num)\n",
        "    else:\n",
        "      fatorial_num = math.factorial(num)\n",
        "  return fatorial_num\n",
        "\n",
        "\n",
        "\n",
        "frase = \"Fatorial\"\n",
        "print_titulo(frase)\n",
        "fatorial(9,show=False)\n"
      ],
      "metadata": {
        "colab": {
          "base_uri": "https://localhost:8080/"
        },
        "id": "gHOVGYhH8sIE",
        "outputId": "98caf7f7-71b0-4426-daff-08a6c88ca37a"
      },
      "execution_count": null,
      "outputs": [
        {
          "output_type": "stream",
          "name": "stdout",
          "text": [
            "~~~~~~~~~~~~\n",
            "  Fatorial\n",
            "~~~~~~~~~~~~\n"
          ]
        },
        {
          "output_type": "execute_result",
          "data": {
            "text/plain": [
              "362880"
            ]
          },
          "metadata": {},
          "execution_count": 122
        }
      ]
    },
    {
      "cell_type": "markdown",
      "source": [
        "Curso Python #22 - Módulos e Pacotes\n"
      ],
      "metadata": {
        "id": "Ykt94e6xARsW"
      }
    },
    {
      "cell_type": "code",
      "source": [
        "def aumentar(preço=0,taxa=0,format=False):\n",
        "  res = preço + (preço * taxa / 100)\n",
        "  return res if format is False else moeda(res)\n",
        "\n",
        "def moeda(preço=0,moeda='R$'):\n",
        "  return f'{moeda}{preço:>.2f}'.replace('.',',')\n",
        "\n",
        "\n",
        "aumentar(50,3,True)"
      ],
      "metadata": {
        "colab": {
          "base_uri": "https://localhost:8080/",
          "height": 36
        },
        "id": "tvpoTs8i9qgO",
        "outputId": "6449b76e-aea9-4fa3-f8b6-48941d336397"
      },
      "execution_count": null,
      "outputs": [
        {
          "output_type": "execute_result",
          "data": {
            "text/plain": [
              "'R$51,50'"
            ],
            "application/vnd.google.colaboratory.intrinsic+json": {
              "type": "string"
            }
          },
          "metadata": {},
          "execution_count": 129
        }
      ]
    },
    {
      "cell_type": "markdown",
      "source": [
        "Curso Python #23 - Tratamento de Erros e Exceções\n"
      ],
      "metadata": {
        "id": "gsA55feWLCyO"
      }
    },
    {
      "cell_type": "code",
      "source": [
        "try:\n",
        "  a = float(input(\"Digite o numerador: \"))\n",
        "  b = float(input(\"Digite o numerador: \"))\n",
        "  r = a / b\n",
        "except (ValueError, TypeError):\n",
        "  print('Tivemos um problema com os tipos de dados que vc digitou')\n",
        "except ZeroDivisionError:\n",
        "  print('Não é possivel dividir um número por zero!!')\n",
        "except Exception as erro:\n",
        "  print(f'O problema encontrado foi {erro.__cause__}')\n",
        "except KeyboardInterrupt:\n",
        "  print('O usuario preferio não informar os valores')\n",
        "else:\n",
        "  print(\"Tudo certo\")\n",
        "  print(f'\\nResultado: {r:.2f}')\n",
        "finally:\n",
        "  print('Volte sempre')"
      ],
      "metadata": {
        "colab": {
          "base_uri": "https://localhost:8080/"
        },
        "id": "fvqlDInbLDG5",
        "outputId": "91cac21e-fa6f-40f3-887b-5f02e0fb0fac"
      },
      "execution_count": null,
      "outputs": [
        {
          "output_type": "stream",
          "name": "stdout",
          "text": [
            "Digite o numerador: 1\n",
            "Digite o numerador: 2\n",
            "Tudo certo\n",
            "\n",
            "Resultado: 0.50\n",
            "Volte sempre\n"
          ]
        }
      ]
    },
    {
      "cell_type": "markdown",
      "source": [
        "Exercício Python #113 - Funções aprofundadas em Python\n"
      ],
      "metadata": {
        "id": "0175-qKLQW7Q"
      }
    },
    {
      "cell_type": "code",
      "source": [],
      "metadata": {
        "id": "IqHyzevzQXPy"
      },
      "execution_count": null,
      "outputs": []
    }
  ]
}